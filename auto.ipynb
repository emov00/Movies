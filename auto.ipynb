{
 "cells": [
  {
   "cell_type": "code",
   "execution_count": 1,
   "metadata": {},
   "outputs": [],
   "source": [
    "#imports\n",
    "import pandas, time\n",
    "from selenium import webdriver\n",
    "from selenium.webdriver.common.keys import Keys\n",
    "from selenium.webdriver.common.by import By\n",
    "from selenium.webdriver.support.ui import WebDriverWait\n",
    "from selenium.webdriver.support import expected_conditions as EC\n",
    "from group import message"
   ]
  },
  {
   "cell_type": "code",
   "execution_count": 2,
   "metadata": {},
   "outputs": [],
   "source": [
    "#dataframe and list of movie titles\n",
    "working_df = pandas.read_csv('working.txt')\n",
    "titles = [x.title() for x in working_df['Title']]"
   ]
  },
  {
   "cell_type": "code",
   "execution_count": 4,
   "metadata": {
    "tags": []
   },
   "outputs": [],
   "source": [
    "#establish path\n",
    "path = 'C:\\Program Files (x86)\\chromedriver.exe'\n",
    "driver = webdriver.Chrome(path)\n",
    "driver.get('https://www.imdb.com/')\n",
    "\n",
    "movies = []\n",
    "for t in titles:\n",
    "    d = {}\n",
    "\n",
    "    #search for movie title\n",
    "    search = driver.find_element_by_id('suggestion-search')\n",
    "    search.clear()\n",
    "    search.send_keys(t)\n",
    "    time.sleep(1.5)\n",
    "    search.send_keys(Keys.ARROW_DOWN)\n",
    "    time.sleep(1.5)\n",
    "    search.send_keys(Keys.RETURN)\n",
    "\n",
    "    \n",
    "    try:\n",
    "        length = WebDriverWait(driver, 10).until(\n",
    "        EC.presence_of_element_located((By.TAG_NAME, \"time\")))\n",
    "        \n",
    "        title = WebDriverWait(driver, 10).until(EC.presence_of_element_located((By.TAG_NAME, 'h1')))\n",
    "    except:\n",
    "        pass\n",
    "\n",
    "    #create new dict for new df\n",
    "    try:\n",
    "        d['Title'] = title.text\n",
    "        d['Length'] = length.text\n",
    "        movies.append(d)\n",
    "    except:\n",
    "        message(f'Error with {t}')\n",
    "        pass\n",
    "        \n",
    "    if len(movies) == int(len(titles)/4):\n",
    "        message('25% Done')\n",
    "    elif len(movies) == int(len(titles)/2):\n",
    "        message('50% Done')\n",
    "    elif len(movies) == int(len(titles)/4)*3:\n",
    "        message('75% Done')\n",
    "    else:\n",
    "        pass\n",
    "\n",
    "\n",
    "message('Task complete')\n",
    "driver.quit()"
   ]
  },
  {
   "cell_type": "code",
   "execution_count": 30,
   "metadata": {},
   "outputs": [
    {
     "output_type": "display_data",
     "data": {
      "text/plain": "                                                Length\nTitle                                                 \nChronicle (2012)                              1h 24min\nThe Producers (1967)                          1h 28min\nFast Times at Ridgemont High (1982)           1h 30min\nMonty Python and the Holy Grail (1975)        1h 31min\nBlazing Saddles (1974)                        1h 33min\nPlanes, Trains & Automobiles (1987)           1h 33min\nFirst Blood (1982)                            1h 33min\nWayne's World (1992)                          1h 34min\n12 Angry Men (1957)                           1h 36min\nFargo (1996)                                  1h 38min\nRisky Business (1983)                         1h 39min\nReservoir Dogs (1992)                         1h 39min\nThe Inglorious Bastards (1978)                1h 39min\nAmerican Psycho (2000)                        1h 41min\nJohn Wick (2014)                              1h 41min\nCasablanca (1942)                             1h 42min\nRequiem for a Dream (2000)                    1h 42min\nDunkirk (2017)                                1h 46min\nYoung Frankenstein (1974)                     1h 46min\nThe Usual Suspects (1995)                     1h 46min\nThe Sixth Sense (1999)                        1h 47min\nEternal Sunshine of the Spotless Mind (2004)  1h 48min\nLaw Abiding Citizen (2009)                    1h 49min\nSeven Psychopaths (2012)                      1h 50min\nKill Bill: Vol. 1 (2003)                      1h 51min\nRear Window (1954)                            1h 52min\nDonnie Darko (2001)                           1h 53min\nMemento (2000)                                1h 53min\nOcean's Eleven (2001)                         1h 56min\nThe Silence of the Lambs (1991)               1h 58min\nAmerican History X (1998)                     1h 59min\nCitizen Kane (1941)                           1h 59min\nMy Cousin Vinny (1992)                              2h\nRocky (1976)                                        2h\nGood Morning, Vietnam (1987)                   2h 1min\nNo Country for Old Men (2007)                  2h 2min\nPhiladelphia (1993)                            2h 5min\nChariots of Fire (1981)                        2h 5min\nSpirited Away (2001)                           2h 5min\nThe Mist (2007)                                2h 6min\nGood Will Hunting (1997)                       2h 6min\nSe7en (1995)                                   2h 7min\nRaging Bull (1980)                             2h 9min\nThe Prestige (2006)                           2h 10min\nParasite (2019)                               2h 12min\nRain Man (1988)                               2h 13min\nOne Flew Over the Cuckoo's Nest (1975)        2h 13min\nA Beautiful Mind (2001)                       2h 15min\nShutter Island (2010)                         2h 18min\nFight Club (1999)                             2h 19min\nThe Shawshank Redemption (1994)               2h 22min\nGoodfellas (1990)                             2h 26min\nApocalypse Now (1979)                         2h 27min\nInception (2010)                              2h 28min\n2001: A Space Odyssey (1968)                  2h 29min\nThe Dark Knight (2008)                        2h 32min\nPulp Fiction (1994)                           2h 34min\nThere Will Be Blood (2007)                    2h 38min\nThe Bridge on the River Kwai (1957)           2h 41min\nDjango Unchained (2012)                       2h 45min\nInterstellar (2014)                           2h 49min\nSaving Private Ryan (1998)                    2h 49min\nHeat (1995)                                   2h 50min\nScarface (1983)                               2h 50min\nThe Godfather (1972)                          2h 55min\nThe Good, the Bad and the Ugly (1966)         2h 58min\nThe Green Mile (1999)                          3h 9min\nSchindler's List (1993)                       3h 15min\nThe Godfather: Part II (1974)                 3h 22min",
      "text/html": "<div>\n<style scoped>\n    .dataframe tbody tr th:only-of-type {\n        vertical-align: middle;\n    }\n\n    .dataframe tbody tr th {\n        vertical-align: top;\n    }\n\n    .dataframe thead th {\n        text-align: right;\n    }\n</style>\n<table border=\"1\" class=\"dataframe\">\n  <thead>\n    <tr style=\"text-align: right;\">\n      <th></th>\n      <th>Length</th>\n    </tr>\n    <tr>\n      <th>Title</th>\n      <th></th>\n    </tr>\n  </thead>\n  <tbody>\n    <tr>\n      <th>Chronicle (2012)</th>\n      <td>1h 24min</td>\n    </tr>\n    <tr>\n      <th>The Producers (1967)</th>\n      <td>1h 28min</td>\n    </tr>\n    <tr>\n      <th>Fast Times at Ridgemont High (1982)</th>\n      <td>1h 30min</td>\n    </tr>\n    <tr>\n      <th>Monty Python and the Holy Grail (1975)</th>\n      <td>1h 31min</td>\n    </tr>\n    <tr>\n      <th>Blazing Saddles (1974)</th>\n      <td>1h 33min</td>\n    </tr>\n    <tr>\n      <th>Planes, Trains &amp; Automobiles (1987)</th>\n      <td>1h 33min</td>\n    </tr>\n    <tr>\n      <th>First Blood (1982)</th>\n      <td>1h 33min</td>\n    </tr>\n    <tr>\n      <th>Wayne's World (1992)</th>\n      <td>1h 34min</td>\n    </tr>\n    <tr>\n      <th>12 Angry Men (1957)</th>\n      <td>1h 36min</td>\n    </tr>\n    <tr>\n      <th>Fargo (1996)</th>\n      <td>1h 38min</td>\n    </tr>\n    <tr>\n      <th>Risky Business (1983)</th>\n      <td>1h 39min</td>\n    </tr>\n    <tr>\n      <th>Reservoir Dogs (1992)</th>\n      <td>1h 39min</td>\n    </tr>\n    <tr>\n      <th>The Inglorious Bastards (1978)</th>\n      <td>1h 39min</td>\n    </tr>\n    <tr>\n      <th>American Psycho (2000)</th>\n      <td>1h 41min</td>\n    </tr>\n    <tr>\n      <th>John Wick (2014)</th>\n      <td>1h 41min</td>\n    </tr>\n    <tr>\n      <th>Casablanca (1942)</th>\n      <td>1h 42min</td>\n    </tr>\n    <tr>\n      <th>Requiem for a Dream (2000)</th>\n      <td>1h 42min</td>\n    </tr>\n    <tr>\n      <th>Dunkirk (2017)</th>\n      <td>1h 46min</td>\n    </tr>\n    <tr>\n      <th>Young Frankenstein (1974)</th>\n      <td>1h 46min</td>\n    </tr>\n    <tr>\n      <th>The Usual Suspects (1995)</th>\n      <td>1h 46min</td>\n    </tr>\n    <tr>\n      <th>The Sixth Sense (1999)</th>\n      <td>1h 47min</td>\n    </tr>\n    <tr>\n      <th>Eternal Sunshine of the Spotless Mind (2004)</th>\n      <td>1h 48min</td>\n    </tr>\n    <tr>\n      <th>Law Abiding Citizen (2009)</th>\n      <td>1h 49min</td>\n    </tr>\n    <tr>\n      <th>Seven Psychopaths (2012)</th>\n      <td>1h 50min</td>\n    </tr>\n    <tr>\n      <th>Kill Bill: Vol. 1 (2003)</th>\n      <td>1h 51min</td>\n    </tr>\n    <tr>\n      <th>Rear Window (1954)</th>\n      <td>1h 52min</td>\n    </tr>\n    <tr>\n      <th>Donnie Darko (2001)</th>\n      <td>1h 53min</td>\n    </tr>\n    <tr>\n      <th>Memento (2000)</th>\n      <td>1h 53min</td>\n    </tr>\n    <tr>\n      <th>Ocean's Eleven (2001)</th>\n      <td>1h 56min</td>\n    </tr>\n    <tr>\n      <th>The Silence of the Lambs (1991)</th>\n      <td>1h 58min</td>\n    </tr>\n    <tr>\n      <th>American History X (1998)</th>\n      <td>1h 59min</td>\n    </tr>\n    <tr>\n      <th>Citizen Kane (1941)</th>\n      <td>1h 59min</td>\n    </tr>\n    <tr>\n      <th>My Cousin Vinny (1992)</th>\n      <td>2h</td>\n    </tr>\n    <tr>\n      <th>Rocky (1976)</th>\n      <td>2h</td>\n    </tr>\n    <tr>\n      <th>Good Morning, Vietnam (1987)</th>\n      <td>2h 1min</td>\n    </tr>\n    <tr>\n      <th>No Country for Old Men (2007)</th>\n      <td>2h 2min</td>\n    </tr>\n    <tr>\n      <th>Philadelphia (1993)</th>\n      <td>2h 5min</td>\n    </tr>\n    <tr>\n      <th>Chariots of Fire (1981)</th>\n      <td>2h 5min</td>\n    </tr>\n    <tr>\n      <th>Spirited Away (2001)</th>\n      <td>2h 5min</td>\n    </tr>\n    <tr>\n      <th>The Mist (2007)</th>\n      <td>2h 6min</td>\n    </tr>\n    <tr>\n      <th>Good Will Hunting (1997)</th>\n      <td>2h 6min</td>\n    </tr>\n    <tr>\n      <th>Se7en (1995)</th>\n      <td>2h 7min</td>\n    </tr>\n    <tr>\n      <th>Raging Bull (1980)</th>\n      <td>2h 9min</td>\n    </tr>\n    <tr>\n      <th>The Prestige (2006)</th>\n      <td>2h 10min</td>\n    </tr>\n    <tr>\n      <th>Parasite (2019)</th>\n      <td>2h 12min</td>\n    </tr>\n    <tr>\n      <th>Rain Man (1988)</th>\n      <td>2h 13min</td>\n    </tr>\n    <tr>\n      <th>One Flew Over the Cuckoo's Nest (1975)</th>\n      <td>2h 13min</td>\n    </tr>\n    <tr>\n      <th>A Beautiful Mind (2001)</th>\n      <td>2h 15min</td>\n    </tr>\n    <tr>\n      <th>Shutter Island (2010)</th>\n      <td>2h 18min</td>\n    </tr>\n    <tr>\n      <th>Fight Club (1999)</th>\n      <td>2h 19min</td>\n    </tr>\n    <tr>\n      <th>The Shawshank Redemption (1994)</th>\n      <td>2h 22min</td>\n    </tr>\n    <tr>\n      <th>Goodfellas (1990)</th>\n      <td>2h 26min</td>\n    </tr>\n    <tr>\n      <th>Apocalypse Now (1979)</th>\n      <td>2h 27min</td>\n    </tr>\n    <tr>\n      <th>Inception (2010)</th>\n      <td>2h 28min</td>\n    </tr>\n    <tr>\n      <th>2001: A Space Odyssey (1968)</th>\n      <td>2h 29min</td>\n    </tr>\n    <tr>\n      <th>The Dark Knight (2008)</th>\n      <td>2h 32min</td>\n    </tr>\n    <tr>\n      <th>Pulp Fiction (1994)</th>\n      <td>2h 34min</td>\n    </tr>\n    <tr>\n      <th>There Will Be Blood (2007)</th>\n      <td>2h 38min</td>\n    </tr>\n    <tr>\n      <th>The Bridge on the River Kwai (1957)</th>\n      <td>2h 41min</td>\n    </tr>\n    <tr>\n      <th>Django Unchained (2012)</th>\n      <td>2h 45min</td>\n    </tr>\n    <tr>\n      <th>Interstellar (2014)</th>\n      <td>2h 49min</td>\n    </tr>\n    <tr>\n      <th>Saving Private Ryan (1998)</th>\n      <td>2h 49min</td>\n    </tr>\n    <tr>\n      <th>Heat (1995)</th>\n      <td>2h 50min</td>\n    </tr>\n    <tr>\n      <th>Scarface (1983)</th>\n      <td>2h 50min</td>\n    </tr>\n    <tr>\n      <th>The Godfather (1972)</th>\n      <td>2h 55min</td>\n    </tr>\n    <tr>\n      <th>The Good, the Bad and the Ugly (1966)</th>\n      <td>2h 58min</td>\n    </tr>\n    <tr>\n      <th>The Green Mile (1999)</th>\n      <td>3h 9min</td>\n    </tr>\n    <tr>\n      <th>Schindler's List (1993)</th>\n      <td>3h 15min</td>\n    </tr>\n    <tr>\n      <th>The Godfather: Part II (1974)</th>\n      <td>3h 22min</td>\n    </tr>\n  </tbody>\n</table>\n</div>"
     },
     "metadata": {}
    }
   ],
   "source": [
    "new_df = pandas.DataFrame(movies)\n",
    "\n",
    "new_df = new_df.append(pandas.Series(['Philadelphia (1993)','2h 5min'],index=new_df.columns), ignore_index=True)\n",
    "new_df = new_df.append(pandas.Series(['Fargo (1996)','1h 38min'],index=new_df.columns),ignore_index=True)\n",
    "\n",
    "new_df = new_df.set_index('Title')\n",
    "\n",
    "new_df = new_df.drop(\"It's Always Sunny in Philadelphia \")\n",
    "new_df = new_df.drop('Fargo ')\n",
    "\n",
    "new_df['Time'] = (pandas.to_timedelta(new_df['Length']).dt.seconds//60).astype(int)\n",
    "\n",
    "new_df = new_df.sort_values(by=['Time'])\n",
    "new_df = new_df.drop(columns=['Time'])\n",
    "\n",
    "with pandas.option_context('display.max_rows', None, 'display.max_columns', None):  # more options can be specified also\n",
    "    display(new_df)\n"
   ]
  },
  {
   "cell_type": "code",
   "execution_count": 32,
   "metadata": {},
   "outputs": [],
   "source": [
    "new_df.to_csv('list.csv')"
   ]
  }
 ],
 "metadata": {
  "language_info": {
   "codemirror_mode": {
    "name": "ipython",
    "version": 3
   },
   "file_extension": ".py",
   "mimetype": "text/x-python",
   "name": "python",
   "nbconvert_exporter": "python",
   "pygments_lexer": "ipython3",
   "version": "3.8.10"
  },
  "orig_nbformat": 2,
  "kernelspec": {
   "name": "python38364bita4a73a338f094706b53f32c17a1daaa3",
   "display_name": "Python 3.8.3 64-bit",
   "language": "python"
  },
  "metadata": {
   "interpreter": {
    "hash": "9314dda4ac9ac75e0bc5c5d6178566c0a31f4251cd21e069f1f7e581c42ae886"
   }
  }
 },
 "nbformat": 4,
 "nbformat_minor": 2
}